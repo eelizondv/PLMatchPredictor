{
 "cells": [
  {
   "cell_type": "markdown",
   "metadata": {},
   "source": [
    "# requirements"
   ]
  },
  {
   "cell_type": "code",
   "execution_count": null,
   "metadata": {},
   "outputs": [],
   "source": [
    "import pandas as pd\n",
    "from sklearn.model_selection import train_test_split\n",
    "from sklearn.preprocessing import LabelEncoder\n",
    "from sklearn.ensemble import RandomForestClassifier\n",
    "from sklearn.metrics import accuracy_score, classification_report, precision_score\n",
    "import joblib"
   ]
  },
  {
   "cell_type": "markdown",
   "metadata": {},
   "source": [
    "# loading data and preprocessing"
   ]
  },
  {
   "cell_type": "code",
   "execution_count": null,
   "metadata": {},
   "outputs": [],
   "source": [
    "file_path = 'data/premier-league-matches.csv'  # Update this path as needed\n",
    "matches = pd.read_csv(file_path)\n",
    "\n",
    "matches[\"date\"] = pd.to_datetime(matches[\"Date\"])\n",
    "matches[\"h/a\"] = matches[\"Home\"].astype(\"category\").cat.codes\n",
    "matches[\"opp\"] = matches[\"Away\"].astype(\"category\").cat.codes\n",
    "matches[\"hour\"] = 0  # Assuming time is not provided, set a default value\n",
    "matches[\"day\"] = matches[\"date\"].dt.dayofweek\n",
    "matches[\"target\"] = (matches[\"FTR\"] == \"H\").astype(\"int\")"
   ]
  },
  {
   "cell_type": "markdown",
   "metadata": {},
   "source": [
    "# building the model"
   ]
  },
  {
   "cell_type": "code",
   "execution_count": null,
   "metadata": {},
   "outputs": [],
   "source": [
    "# train-test split\n",
    "train = matches[matches[\"date\"] < '2022-01-01']\n",
    "test = matches[matches[\"date\"] >= '2022-01-01']\n",
    "predictors = [\"h/a\", \"opp\", \"hour\", \"day\"]\n"
   ]
  }
 ],
 "metadata": {
  "kernelspec": {
   "display_name": "base",
   "language": "python",
   "name": "python3"
  },
  "language_info": {
   "name": "python",
   "version": "3.11.7"
  }
 },
 "nbformat": 4,
 "nbformat_minor": 2
}
